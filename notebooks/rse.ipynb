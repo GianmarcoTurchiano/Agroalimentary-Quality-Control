{
 "cells": [
  {
   "cell_type": "code",
   "execution_count": 1,
   "metadata": {},
   "outputs": [],
   "source": [
    "import torch\n",
    "import torch.nn as nn"
   ]
  },
  {
   "cell_type": "code",
   "execution_count": 9,
   "metadata": {},
   "outputs": [],
   "source": [
    "class RSELoss(nn.Module):\n",
    "    def __init__(self):\n",
    "        super(RSELoss, self).__init__()\n",
    "    \n",
    "    def forward(self, y_pred, y_true):\n",
    "        numerator = torch.sum((y_true - y_pred) ** 2)\n",
    "        denominator = torch.sum((y_true - torch.mean(y_true)) ** 2) + 1e-8\n",
    "        rse = numerator / denominator\n",
    "        return rse"
   ]
  },
  {
   "cell_type": "code",
   "execution_count": 12,
   "metadata": {},
   "outputs": [
    {
     "name": "stdout",
     "output_type": "stream",
     "text": [
      "RSE Loss: 0.05139186233282089\n"
     ]
    }
   ],
   "source": [
    "loss_fn = RSELoss()\n",
    "\n",
    "y_true = torch.tensor([3.0, -0.5, 2.0, 7.0])\n",
    "y_pred = torch.tensor([2.5, 0.0, 2.0, 8.0])\n",
    "\n",
    "loss = loss_fn(y_pred, y_true)\n",
    "print(f\"RSE Loss: {loss.item()}\")"
   ]
  }
 ],
 "metadata": {
  "kernelspec": {
   "display_name": ".venv",
   "language": "python",
   "name": "python3"
  },
  "language_info": {
   "codemirror_mode": {
    "name": "ipython",
    "version": 3
   },
   "file_extension": ".py",
   "mimetype": "text/x-python",
   "name": "python",
   "nbconvert_exporter": "python",
   "pygments_lexer": "ipython3",
   "version": "3.10.12"
  }
 },
 "nbformat": 4,
 "nbformat_minor": 2
}
