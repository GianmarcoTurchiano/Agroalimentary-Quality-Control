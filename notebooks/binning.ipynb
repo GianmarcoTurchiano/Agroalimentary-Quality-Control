{
 "cells": [
  {
   "cell_type": "code",
   "execution_count": 1,
   "metadata": {},
   "outputs": [],
   "source": [
    "import pandas as pd"
   ]
  },
  {
   "cell_type": "code",
   "execution_count": 2,
   "metadata": {},
   "outputs": [
    {
     "data": {
      "text/html": [
       "<div>\n",
       "<style scoped>\n",
       "    .dataframe tbody tr th:only-of-type {\n",
       "        vertical-align: middle;\n",
       "    }\n",
       "\n",
       "    .dataframe tbody tr th {\n",
       "        vertical-align: top;\n",
       "    }\n",
       "\n",
       "    .dataframe thead th {\n",
       "        text-align: right;\n",
       "    }\n",
       "</style>\n",
       "<table border=\"1\" class=\"dataframe\">\n",
       "  <thead>\n",
       "    <tr style=\"text-align: right;\">\n",
       "      <th></th>\n",
       "      <th>fname</th>\n",
       "      <th>ammonia</th>\n",
       "      <th>chlorophyll</th>\n",
       "      <th>quality</th>\n",
       "    </tr>\n",
       "  </thead>\n",
       "  <tbody>\n",
       "    <tr>\n",
       "      <th>0</th>\n",
       "      <td>2021 01 18_T_3_Rep6_NoBag_1.tif</td>\n",
       "      <td>6.98</td>\n",
       "      <td>70.44</td>\n",
       "      <td>3</td>\n",
       "    </tr>\n",
       "    <tr>\n",
       "      <th>1</th>\n",
       "      <td>2021 02 26 S__S_3_Rep_7_NoBag_3.tif</td>\n",
       "      <td>0.93</td>\n",
       "      <td>71.82</td>\n",
       "      <td>3</td>\n",
       "    </tr>\n",
       "    <tr>\n",
       "      <th>2</th>\n",
       "      <td>2019_12_12_3_Treat7_NoBag_1.tif</td>\n",
       "      <td>16.98</td>\n",
       "      <td>46.94</td>\n",
       "      <td>3</td>\n",
       "    </tr>\n",
       "    <tr>\n",
       "      <th>3</th>\n",
       "      <td>2021 03 16 S__T_1_Rep_2_NoBag_1.tif</td>\n",
       "      <td>159.55</td>\n",
       "      <td>41.11</td>\n",
       "      <td>1</td>\n",
       "    </tr>\n",
       "    <tr>\n",
       "      <th>4</th>\n",
       "      <td>2021 03 02 T__T_4_Rep_C_NoBag_3.tif</td>\n",
       "      <td>1.15</td>\n",
       "      <td>71.96</td>\n",
       "      <td>4</td>\n",
       "    </tr>\n",
       "  </tbody>\n",
       "</table>\n",
       "</div>"
      ],
      "text/plain": [
       "                                 fname  ammonia  chlorophyll  quality\n",
       "0      2021 01 18_T_3_Rep6_NoBag_1.tif     6.98        70.44        3\n",
       "1  2021 02 26 S__S_3_Rep_7_NoBag_3.tif     0.93        71.82        3\n",
       "2      2019_12_12_3_Treat7_NoBag_1.tif    16.98        46.94        3\n",
       "3  2021 03 16 S__T_1_Rep_2_NoBag_1.tif   159.55        41.11        1\n",
       "4  2021 03 02 T__T_4_Rep_C_NoBag_3.tif     1.15        71.96        4"
      ]
     },
     "execution_count": 2,
     "metadata": {},
     "output_type": "execute_result"
    }
   ],
   "source": [
    "df = pd.read_csv('../../dataset/data.csv')\n",
    "df.head()"
   ]
  },
  {
   "cell_type": "code",
   "execution_count": 3,
   "metadata": {},
   "outputs": [],
   "source": [
    "n_bins = 4"
   ]
  },
  {
   "cell_type": "code",
   "execution_count": 4,
   "metadata": {},
   "outputs": [],
   "source": [
    "chlorophyll_bins = pd.cut(df['chlorophyll'], bins=n_bins)\n",
    "ammonia_bins = pd.cut(df['ammonia'], bins=n_bins)"
   ]
  },
  {
   "cell_type": "code",
   "execution_count": 5,
   "metadata": {},
   "outputs": [
    {
     "data": {
      "text/plain": [
       "0         (-0.064, 71.227]\n",
       "1         (-0.064, 71.227]\n",
       "2         (-0.064, 71.227]\n",
       "3       (142.235, 213.242]\n",
       "4         (-0.064, 71.227]\n",
       "               ...        \n",
       "1186      (-0.064, 71.227]\n",
       "1187     (71.227, 142.235]\n",
       "1188      (-0.064, 71.227]\n",
       "1189      (-0.064, 71.227]\n",
       "1190      (-0.064, 71.227]\n",
       "Name: ammonia, Length: 1191, dtype: category\n",
       "Categories (4, interval[float64, right]): [(-0.064, 71.227] < (71.227, 142.235] < (142.235, 213.242] < (213.242, 284.25]]"
      ]
     },
     "execution_count": 5,
     "metadata": {},
     "output_type": "execute_result"
    }
   ],
   "source": [
    "ammonia_bins"
   ]
  },
  {
   "cell_type": "code",
   "execution_count": 6,
   "metadata": {},
   "outputs": [
    {
     "data": {
      "text/html": [
       "<div>\n",
       "<style scoped>\n",
       "    .dataframe tbody tr th:only-of-type {\n",
       "        vertical-align: middle;\n",
       "    }\n",
       "\n",
       "    .dataframe tbody tr th {\n",
       "        vertical-align: top;\n",
       "    }\n",
       "\n",
       "    .dataframe thead th {\n",
       "        text-align: right;\n",
       "    }\n",
       "</style>\n",
       "<table border=\"1\" class=\"dataframe\">\n",
       "  <thead>\n",
       "    <tr style=\"text-align: right;\">\n",
       "      <th></th>\n",
       "      <th>fname</th>\n",
       "      <th>ammonia</th>\n",
       "      <th>chlorophyll</th>\n",
       "      <th>quality</th>\n",
       "      <th>ammonia_bins</th>\n",
       "      <th>chlorophyll_bins</th>\n",
       "    </tr>\n",
       "  </thead>\n",
       "  <tbody>\n",
       "    <tr>\n",
       "      <th>0</th>\n",
       "      <td>2021 01 18_T_3_Rep6_NoBag_1.tif</td>\n",
       "      <td>6.98</td>\n",
       "      <td>70.44</td>\n",
       "      <td>3</td>\n",
       "      <td>0</td>\n",
       "      <td>2</td>\n",
       "    </tr>\n",
       "    <tr>\n",
       "      <th>1</th>\n",
       "      <td>2021 02 26 S__S_3_Rep_7_NoBag_3.tif</td>\n",
       "      <td>0.93</td>\n",
       "      <td>71.82</td>\n",
       "      <td>3</td>\n",
       "      <td>0</td>\n",
       "      <td>2</td>\n",
       "    </tr>\n",
       "    <tr>\n",
       "      <th>2</th>\n",
       "      <td>2019_12_12_3_Treat7_NoBag_1.tif</td>\n",
       "      <td>16.98</td>\n",
       "      <td>46.94</td>\n",
       "      <td>3</td>\n",
       "      <td>0</td>\n",
       "      <td>1</td>\n",
       "    </tr>\n",
       "    <tr>\n",
       "      <th>3</th>\n",
       "      <td>2021 03 16 S__T_1_Rep_2_NoBag_1.tif</td>\n",
       "      <td>159.55</td>\n",
       "      <td>41.11</td>\n",
       "      <td>1</td>\n",
       "      <td>2</td>\n",
       "      <td>0</td>\n",
       "    </tr>\n",
       "    <tr>\n",
       "      <th>4</th>\n",
       "      <td>2021 03 02 T__T_4_Rep_C_NoBag_3.tif</td>\n",
       "      <td>1.15</td>\n",
       "      <td>71.96</td>\n",
       "      <td>4</td>\n",
       "      <td>0</td>\n",
       "      <td>2</td>\n",
       "    </tr>\n",
       "  </tbody>\n",
       "</table>\n",
       "</div>"
      ],
      "text/plain": [
       "                                 fname  ammonia  chlorophyll  quality  \\\n",
       "0      2021 01 18_T_3_Rep6_NoBag_1.tif     6.98        70.44        3   \n",
       "1  2021 02 26 S__S_3_Rep_7_NoBag_3.tif     0.93        71.82        3   \n",
       "2      2019_12_12_3_Treat7_NoBag_1.tif    16.98        46.94        3   \n",
       "3  2021 03 16 S__T_1_Rep_2_NoBag_1.tif   159.55        41.11        1   \n",
       "4  2021 03 02 T__T_4_Rep_C_NoBag_3.tif     1.15        71.96        4   \n",
       "\n",
       "   ammonia_bins  chlorophyll_bins  \n",
       "0             0                 2  \n",
       "1             0                 2  \n",
       "2             0                 1  \n",
       "3             2                 0  \n",
       "4             0                 2  "
      ]
     },
     "execution_count": 6,
     "metadata": {},
     "output_type": "execute_result"
    }
   ],
   "source": [
    "df['ammonia_bins'] = pd.Series(ammonia_bins.cat.codes, dtype='int')\n",
    "df['chlorophyll_bins'] = pd.Series(chlorophyll_bins.cat.codes, dtype='int')\n",
    "df.head()"
   ]
  },
  {
   "cell_type": "code",
   "execution_count": 17,
   "metadata": {},
   "outputs": [
    {
     "name": "stdout",
     "output_type": "stream",
     "text": [
      "Bin 0 has negative range: [2, 3]\n",
      "Bin 1 has negative range: [3]\n",
      "Bin 2 has negative range: [0]\n",
      "Bin 3 has negative range: [0, 1]\n"
     ]
    }
   ],
   "source": [
    "def negative_bins(n_bins, target_bin):\n",
    "    negative_range = []\n",
    "    \n",
    "    for i in range(n_bins):\n",
    "        if i != target_bin and abs(i - target_bin) > 1:\n",
    "            negative_range.append(i)\n",
    "    \n",
    "    return negative_range\n",
    "\n",
    "neg_bins = [None] * n_bins\n",
    "\n",
    "n_bins = 4\n",
    "for bin in range(n_bins):\n",
    "    neg_bins[bin] = negative_bins(n_bins, bin)\n",
    "    print(f\"Bin {bin} has negative range: {negative_bins(n_bins, bin)}\")\n"
   ]
  },
  {
   "cell_type": "code",
   "execution_count": 18,
   "metadata": {},
   "outputs": [
    {
     "data": {
      "text/plain": [
       "[[2, 3], [3], [0], [0, 1]]"
      ]
     },
     "execution_count": 18,
     "metadata": {},
     "output_type": "execute_result"
    }
   ],
   "source": [
    "neg_bins"
   ]
  },
  {
   "cell_type": "code",
   "execution_count": 8,
   "metadata": {},
   "outputs": [
    {
     "data": {
      "text/html": [
       "<div>\n",
       "<style scoped>\n",
       "    .dataframe tbody tr th:only-of-type {\n",
       "        vertical-align: middle;\n",
       "    }\n",
       "\n",
       "    .dataframe tbody tr th {\n",
       "        vertical-align: top;\n",
       "    }\n",
       "\n",
       "    .dataframe thead th {\n",
       "        text-align: right;\n",
       "    }\n",
       "</style>\n",
       "<table border=\"1\" class=\"dataframe\">\n",
       "  <thead>\n",
       "    <tr style=\"text-align: right;\">\n",
       "      <th></th>\n",
       "      <th>fname</th>\n",
       "      <th>ammonia</th>\n",
       "      <th>chlorophyll</th>\n",
       "      <th>quality</th>\n",
       "      <th>ammonia_bins</th>\n",
       "      <th>chlorophyll_bins</th>\n",
       "    </tr>\n",
       "  </thead>\n",
       "  <tbody>\n",
       "    <tr>\n",
       "      <th>651</th>\n",
       "      <td>2021 01 25_T_1_Rep6_NoBag_2.tif</td>\n",
       "      <td>215.77</td>\n",
       "      <td>38.97</td>\n",
       "      <td>1</td>\n",
       "      <td>3</td>\n",
       "      <td>0</td>\n",
       "    </tr>\n",
       "  </tbody>\n",
       "</table>\n",
       "</div>"
      ],
      "text/plain": [
       "                               fname  ammonia  chlorophyll  quality  \\\n",
       "651  2021 01 25_T_1_Rep6_NoBag_2.tif   215.77        38.97        1   \n",
       "\n",
       "     ammonia_bins  chlorophyll_bins  \n",
       "651             3                 0  "
      ]
     },
     "execution_count": 8,
     "metadata": {},
     "output_type": "execute_result"
    }
   ],
   "source": [
    "df[df['ammonia_bins'].isin([2, 3])].sample(1)"
   ]
  },
  {
   "cell_type": "code",
   "execution_count": 9,
   "metadata": {},
   "outputs": [
    {
     "data": {
      "text/plain": [
       "'2021 02 09_S_5_Rep4_NoBag_3.tif'"
      ]
     },
     "execution_count": 9,
     "metadata": {},
     "output_type": "execute_result"
    }
   ],
   "source": [
    "idx = 1\n",
    "\n",
    "df[df['ammonia_bins'].isin([0])].drop(idx).sample(1)['fname'].iloc[0]"
   ]
  }
 ],
 "metadata": {
  "kernelspec": {
   "display_name": ".venv",
   "language": "python",
   "name": "python3"
  },
  "language_info": {
   "codemirror_mode": {
    "name": "ipython",
    "version": 3
   },
   "file_extension": ".py",
   "mimetype": "text/x-python",
   "name": "python",
   "nbconvert_exporter": "python",
   "pygments_lexer": "ipython3",
   "version": "3.10.12"
  }
 },
 "nbformat": 4,
 "nbformat_minor": 2
}
