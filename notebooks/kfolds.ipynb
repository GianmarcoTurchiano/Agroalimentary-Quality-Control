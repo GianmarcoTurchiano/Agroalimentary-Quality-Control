{
 "cells": [
  {
   "cell_type": "code",
   "execution_count": 87,
   "metadata": {},
   "outputs": [],
   "source": [
    "from sklearn.model_selection import KFold, train_test_split\n",
    "import pandas as pd"
   ]
  },
  {
   "cell_type": "code",
   "execution_count": 88,
   "metadata": {},
   "outputs": [
    {
     "data": {
      "text/html": [
       "<div>\n",
       "<style scoped>\n",
       "    .dataframe tbody tr th:only-of-type {\n",
       "        vertical-align: middle;\n",
       "    }\n",
       "\n",
       "    .dataframe tbody tr th {\n",
       "        vertical-align: top;\n",
       "    }\n",
       "\n",
       "    .dataframe thead th {\n",
       "        text-align: right;\n",
       "    }\n",
       "</style>\n",
       "<table border=\"1\" class=\"dataframe\">\n",
       "  <thead>\n",
       "    <tr style=\"text-align: right;\">\n",
       "      <th></th>\n",
       "      <th>fname</th>\n",
       "      <th>ammonia</th>\n",
       "      <th>chlorophyll</th>\n",
       "      <th>quality</th>\n",
       "    </tr>\n",
       "  </thead>\n",
       "  <tbody>\n",
       "    <tr>\n",
       "      <th>0</th>\n",
       "      <td>2021 01 18_T_3_Rep6_NoBag_1.tif</td>\n",
       "      <td>6.98</td>\n",
       "      <td>70.44</td>\n",
       "      <td>3</td>\n",
       "    </tr>\n",
       "    <tr>\n",
       "      <th>1</th>\n",
       "      <td>2021 02 26 S__S_3_Rep_7_NoBag_3.tif</td>\n",
       "      <td>0.93</td>\n",
       "      <td>71.82</td>\n",
       "      <td>3</td>\n",
       "    </tr>\n",
       "    <tr>\n",
       "      <th>2</th>\n",
       "      <td>2019_12_12_3_Treat7_NoBag_1.tif</td>\n",
       "      <td>16.98</td>\n",
       "      <td>46.94</td>\n",
       "      <td>3</td>\n",
       "    </tr>\n",
       "    <tr>\n",
       "      <th>3</th>\n",
       "      <td>2021 03 16 S__T_1_Rep_2_NoBag_1.tif</td>\n",
       "      <td>159.55</td>\n",
       "      <td>41.11</td>\n",
       "      <td>1</td>\n",
       "    </tr>\n",
       "    <tr>\n",
       "      <th>4</th>\n",
       "      <td>2021 03 02 T__T_4_Rep_C_NoBag_3.tif</td>\n",
       "      <td>1.15</td>\n",
       "      <td>71.96</td>\n",
       "      <td>4</td>\n",
       "    </tr>\n",
       "  </tbody>\n",
       "</table>\n",
       "</div>"
      ],
      "text/plain": [
       "                                 fname  ammonia  chlorophyll  quality\n",
       "0      2021 01 18_T_3_Rep6_NoBag_1.tif     6.98        70.44        3\n",
       "1  2021 02 26 S__S_3_Rep_7_NoBag_3.tif     0.93        71.82        3\n",
       "2      2019_12_12_3_Treat7_NoBag_1.tif    16.98        46.94        3\n",
       "3  2021 03 16 S__T_1_Rep_2_NoBag_1.tif   159.55        41.11        1\n",
       "4  2021 03 02 T__T_4_Rep_C_NoBag_3.tif     1.15        71.96        4"
      ]
     },
     "execution_count": 88,
     "metadata": {},
     "output_type": "execute_result"
    }
   ],
   "source": [
    "df = pd.read_csv('../../dataset/all.csv')\n",
    "df.head()"
   ]
  },
  {
   "cell_type": "code",
   "execution_count": 89,
   "metadata": {},
   "outputs": [],
   "source": [
    "folds = 10\n",
    "val_ratio = 1 / folds\n",
    "kfold = KFold(n_splits=folds, shuffle=True, random_state=42)"
   ]
  },
  {
   "cell_type": "code",
   "execution_count": 90,
   "metadata": {},
   "outputs": [],
   "source": [
    "import os\n",
    "import shutil\n",
    "\n",
    "root = '../../dataset/splits'\n",
    "\n",
    "if os.path.exists(root):\n",
    "    shutil.rmtree(root)\n",
    "\n",
    "for fold, (train_idx, test_idx) in enumerate(kfold.split(df), start=1):\n",
    "    fold_path = f'{root}/{fold}'\n",
    "    \n",
    "    os.makedirs(fold_path)\n",
    "    \n",
    "    train_set = df.iloc[train_idx]    \n",
    "    test_set = df.iloc[test_idx]\n",
    "\n",
    "    train_set, val_set = train_test_split(train_set, test_size=val_ratio, random_state=42)\n",
    "\n",
    "    train_set.to_csv(f'{fold_path}/train.csv')\n",
    "    test_set.to_csv(f'{fold_path}/test.csv')\n",
    "    val_set.to_csv(f'{fold_path}/val.csv')"
   ]
  }
 ],
 "metadata": {
  "kernelspec": {
   "display_name": ".venv",
   "language": "python",
   "name": "python3"
  },
  "language_info": {
   "codemirror_mode": {
    "name": "ipython",
    "version": 3
   },
   "file_extension": ".py",
   "mimetype": "text/x-python",
   "name": "python",
   "nbconvert_exporter": "python",
   "pygments_lexer": "ipython3",
   "version": "3.12.7"
  }
 },
 "nbformat": 4,
 "nbformat_minor": 2
}
